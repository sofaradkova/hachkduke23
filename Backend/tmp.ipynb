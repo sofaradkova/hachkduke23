{
 "cells": [
  {
   "cell_type": "code",
   "execution_count": 20,
   "metadata": {},
   "outputs": [
    {
     "name": "stdout",
     "output_type": "stream",
     "text": [
      "accounts\n",
      "item\n",
      "request_id\n"
     ]
    }
   ],
   "source": [
    "import requests\n",
    "import json\n",
    "\n",
    "response = requests.get('http://localhost:3000/api/balance')\n",
    "\n",
    "for obj in response.json():\n",
    "    print(obj)\n",
    "    # for t in:\n",
    "        # print(t)\n",
    "# print(response.json())\n",
    "# print(response.text)"
   ]
  },
  {
   "cell_type": "code",
   "execution_count": 23,
   "metadata": {},
   "outputs": [
    {
     "name": "stdout",
     "output_type": "stream",
     "text": [
      "{'accounts': [{'account_id': 'QwzZPL4P9dtVL8wXKWk3UbB9xzv4ZGiwLAbR4', 'balances': {'available': 100, 'current': 110, 'iso_currency_code': 'USD', 'limit': None, 'unofficial_currency_code': None}, 'mask': '0000', 'name': 'Plaid Checking', 'official_name': 'Plaid Gold Standard 0% Interest Checking', 'subtype': 'checking', 'type': 'depository'}, {'account_id': 'ZXbBzn1zdZTBdwjV8bgehXVRzor18MtewkZ9o', 'balances': {'available': 200, 'current': 210, 'iso_currency_code': 'USD', 'limit': None, 'unofficial_currency_code': None}, 'mask': '1111', 'name': 'Plaid Saving', 'official_name': 'Plaid Silver Standard 0.1% Interest Saving', 'subtype': 'savings', 'type': 'depository'}], 'item': {'available_products': ['assets', 'balance', 'signal', 'identity', 'investments', 'liabilities', 'recurring_transactions'], 'billed_products': ['auth', 'transactions'], 'consent_expiration_time': None, 'error': None, 'institution_id': 'ins_56', 'item_id': '77PXynMy8xsJkmp43qewsvRkmajkWWcgwXM75', 'optional_products': None, 'products': ['auth', 'transactions'], 'update_type': 'background', 'webhook': ''}, 'request_id': 'wxpOMFQPIVrZmRy'}\n"
     ]
    }
   ],
   "source": [
    "# see all accounts that gave access\n",
    "tmp = requests.get('http://localhost:3000/api/accounts')\n",
    "print(tmp.json())"
   ]
  },
  {
   "cell_type": "code",
   "execution_count": 11,
   "metadata": {},
   "outputs": [
    {
     "name": "stdout",
     "output_type": "stream",
     "text": [
      "<bound method Response.json of <Response [404]>>\n"
     ]
    }
   ],
   "source": [
    "response = requests.get('http://localhost:3000/api/create_link_token')\n",
    "print(response.json)"
   ]
  },
  {
   "cell_type": "markdown",
   "metadata": {},
   "source": [
    "response = requests.get('http://localhost:3000/api/balance')\n",
    "print(response.json)"
   ]
  }
 ],
 "metadata": {
  "kernelspec": {
   "display_name": "Python 3",
   "language": "python",
   "name": "python3"
  },
  "language_info": {
   "codemirror_mode": {
    "name": "ipython",
    "version": 3
   },
   "file_extension": ".py",
   "mimetype": "text/x-python",
   "name": "python",
   "nbconvert_exporter": "python",
   "pygments_lexer": "ipython3",
   "version": "3.9.17"
  },
  "orig_nbformat": 4
 },
 "nbformat": 4,
 "nbformat_minor": 2
}
